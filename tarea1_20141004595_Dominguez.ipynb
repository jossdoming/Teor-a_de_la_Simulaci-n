{
 "cells": [
  {
   "cell_type": "code",
   "execution_count": 45,
   "id": "f77cd591-41cc-43d2-8bb8-28bf501f5e07",
   "metadata": {},
   "outputs": [
    {
     "name": "stdout",
     "output_type": "stream",
     "text": [
      "    Nombre Universidad       Carrera\n",
      "0    Sofía        UNAH      Economía\n",
      "1     José      UNITEC    Ingeniería\n",
      "2     José    ZAMORANO   Matemáticas\n",
      "3     Luis        UJCV    Ingeniería\n",
      "4   Carlos        UCEM    Psicología\n",
      "..     ...         ...           ...\n",
      "95    Luis         ENA  Arquitectura\n",
      "96   Laura      UNITEC  Arquitectura\n",
      "97    José        UCEM    Psicología\n",
      "98   María         UMH      Medicina\n",
      "99    Juan        UJCV      Medicina\n",
      "\n",
      "[100 rows x 3 columns]\n"
     ]
    }
   ],
   "source": [
    "import pandas as pd\n",
    "import random\n",
    "import numpy as np\n",
    "\n",
    "# Tabla de datos\n",
    "\n",
    "nombres = ['Ana', 'Juan', 'Pedro', 'María', 'Luis', 'Carlos', 'Marta', 'Sofía', 'José', 'Laura']\n",
    "carreras = ['Ingeniería', 'Medicina', 'Derecho', 'Arquitectura', 'Economía', 'Psicología', 'Biología', 'Matemáticas', 'Física', 'Química']\n",
    "universidad = ['UNAH', 'UNICAH', 'UNITEC', 'CEUTEC', 'UMH', 'UJCV', 'UCEM', 'ENA', 'UPNFM', 'ZAMORANO']\n",
    "\n",
    "\n",
    "\n",
    "# Generar los datos aleatorios como se pide\n",
    "num_registros = 100\n",
    "data = {\n",
    "    'Nombre': random.choices(nombres, k=num_registros),\n",
    "    'Universidad': random.choices(universidad, k=num_registros),\n",
    "    'Carrera': random.choices(carreras, k=num_registros)\n",
    "}\n",
    "\n",
    "# DATAFRAME\n",
    "df = pd.DataFrame(data)\n",
    "\n",
    "# Mostrar\n",
    "print(df)\n"
   ]
  },
  {
   "cell_type": "code",
   "execution_count": null,
   "id": "7a5b7b30-61d7-4bd6-8a0a-866535dde465",
   "metadata": {},
   "outputs": [],
   "source": []
  },
  {
   "cell_type": "code",
   "execution_count": null,
   "id": "cff5b34e-4aeb-4b81-be34-7dfe60a737f3",
   "metadata": {},
   "outputs": [],
   "source": []
  }
 ],
 "metadata": {
  "kernelspec": {
   "display_name": "Python 3 (ipykernel)",
   "language": "python",
   "name": "python3"
  },
  "language_info": {
   "codemirror_mode": {
    "name": "ipython",
    "version": 3
   },
   "file_extension": ".py",
   "mimetype": "text/x-python",
   "name": "python",
   "nbconvert_exporter": "python",
   "pygments_lexer": "ipython3",
   "version": "3.11.7"
  }
 },
 "nbformat": 4,
 "nbformat_minor": 5
}
